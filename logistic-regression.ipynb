{
 "cells": [
  {
   "cell_type": "markdown",
   "id": "89aabdcd-b0d5-47b6-8669-39788d7090a1",
   "metadata": {
    "tags": []
   },
   "source": [
    "# Heart Disease Prediction"
   ]
  },
  {
   "cell_type": "markdown",
   "id": "9e8d559b-0ebb-4eb8-b4f7-47e91fa4c06a",
   "metadata": {},
   "source": [
    "## Import packages"
   ]
  },
  {
   "cell_type": "code",
   "execution_count": 4,
   "id": "416d9181-92dd-45ea-8cda-412960af8b80",
   "metadata": {
    "tags": []
   },
   "outputs": [],
   "source": [
    "import numpy as np\n",
    "import pandas as pd\n",
    "\n",
    "from sklearn.model_selection import train_test_split\n",
    "\n",
    "from sklearn import preprocessing\n",
    "from sklearn import compose"
   ]
  },
  {
   "cell_type": "markdown",
   "id": "3f4e204e-a387-41e9-9e36-f48575401558",
   "metadata": {
    "tags": []
   },
   "source": [
    "## Data Preprocessing"
   ]
  },
  {
   "cell_type": "markdown",
   "id": "3b83d28c-fd41-450c-a17d-18e8e7c031c3",
   "metadata": {
    "tags": []
   },
   "source": [
    "### Loading the data"
   ]
  },
  {
   "cell_type": "code",
   "execution_count": 8,
   "id": "033b46a2-9bc2-4edf-b468-2aa5c9f5b3f4",
   "metadata": {
    "tags": []
   },
   "outputs": [
    {
     "data": {
      "text/html": [
       "<div>\n",
       "<style scoped>\n",
       "    .dataframe tbody tr th:only-of-type {\n",
       "        vertical-align: middle;\n",
       "    }\n",
       "\n",
       "    .dataframe tbody tr th {\n",
       "        vertical-align: top;\n",
       "    }\n",
       "\n",
       "    .dataframe thead th {\n",
       "        text-align: right;\n",
       "    }\n",
       "</style>\n",
       "<table border=\"1\" class=\"dataframe\">\n",
       "  <thead>\n",
       "    <tr style=\"text-align: right;\">\n",
       "      <th></th>\n",
       "      <th>Age</th>\n",
       "      <th>Sex</th>\n",
       "      <th>ChestPainType</th>\n",
       "      <th>RestingBP</th>\n",
       "      <th>Cholesterol</th>\n",
       "      <th>FastingBS</th>\n",
       "      <th>RestingECG</th>\n",
       "      <th>MaxHR</th>\n",
       "      <th>ExerciseAngina</th>\n",
       "      <th>Oldpeak</th>\n",
       "      <th>ST_Slope</th>\n",
       "      <th>HeartDisease</th>\n",
       "    </tr>\n",
       "  </thead>\n",
       "  <tbody>\n",
       "    <tr>\n",
       "      <th>0</th>\n",
       "      <td>40</td>\n",
       "      <td>M</td>\n",
       "      <td>ATA</td>\n",
       "      <td>140</td>\n",
       "      <td>289</td>\n",
       "      <td>0</td>\n",
       "      <td>Normal</td>\n",
       "      <td>172</td>\n",
       "      <td>N</td>\n",
       "      <td>0.0</td>\n",
       "      <td>Up</td>\n",
       "      <td>0</td>\n",
       "    </tr>\n",
       "    <tr>\n",
       "      <th>1</th>\n",
       "      <td>49</td>\n",
       "      <td>F</td>\n",
       "      <td>NAP</td>\n",
       "      <td>160</td>\n",
       "      <td>180</td>\n",
       "      <td>0</td>\n",
       "      <td>Normal</td>\n",
       "      <td>156</td>\n",
       "      <td>N</td>\n",
       "      <td>1.0</td>\n",
       "      <td>Flat</td>\n",
       "      <td>1</td>\n",
       "    </tr>\n",
       "    <tr>\n",
       "      <th>2</th>\n",
       "      <td>37</td>\n",
       "      <td>M</td>\n",
       "      <td>ATA</td>\n",
       "      <td>130</td>\n",
       "      <td>283</td>\n",
       "      <td>0</td>\n",
       "      <td>ST</td>\n",
       "      <td>98</td>\n",
       "      <td>N</td>\n",
       "      <td>0.0</td>\n",
       "      <td>Up</td>\n",
       "      <td>0</td>\n",
       "    </tr>\n",
       "    <tr>\n",
       "      <th>3</th>\n",
       "      <td>48</td>\n",
       "      <td>F</td>\n",
       "      <td>ASY</td>\n",
       "      <td>138</td>\n",
       "      <td>214</td>\n",
       "      <td>0</td>\n",
       "      <td>Normal</td>\n",
       "      <td>108</td>\n",
       "      <td>Y</td>\n",
       "      <td>1.5</td>\n",
       "      <td>Flat</td>\n",
       "      <td>1</td>\n",
       "    </tr>\n",
       "    <tr>\n",
       "      <th>4</th>\n",
       "      <td>54</td>\n",
       "      <td>M</td>\n",
       "      <td>NAP</td>\n",
       "      <td>150</td>\n",
       "      <td>195</td>\n",
       "      <td>0</td>\n",
       "      <td>Normal</td>\n",
       "      <td>122</td>\n",
       "      <td>N</td>\n",
       "      <td>0.0</td>\n",
       "      <td>Up</td>\n",
       "      <td>0</td>\n",
       "    </tr>\n",
       "    <tr>\n",
       "      <th>...</th>\n",
       "      <td>...</td>\n",
       "      <td>...</td>\n",
       "      <td>...</td>\n",
       "      <td>...</td>\n",
       "      <td>...</td>\n",
       "      <td>...</td>\n",
       "      <td>...</td>\n",
       "      <td>...</td>\n",
       "      <td>...</td>\n",
       "      <td>...</td>\n",
       "      <td>...</td>\n",
       "      <td>...</td>\n",
       "    </tr>\n",
       "    <tr>\n",
       "      <th>913</th>\n",
       "      <td>45</td>\n",
       "      <td>M</td>\n",
       "      <td>TA</td>\n",
       "      <td>110</td>\n",
       "      <td>264</td>\n",
       "      <td>0</td>\n",
       "      <td>Normal</td>\n",
       "      <td>132</td>\n",
       "      <td>N</td>\n",
       "      <td>1.2</td>\n",
       "      <td>Flat</td>\n",
       "      <td>1</td>\n",
       "    </tr>\n",
       "    <tr>\n",
       "      <th>914</th>\n",
       "      <td>68</td>\n",
       "      <td>M</td>\n",
       "      <td>ASY</td>\n",
       "      <td>144</td>\n",
       "      <td>193</td>\n",
       "      <td>1</td>\n",
       "      <td>Normal</td>\n",
       "      <td>141</td>\n",
       "      <td>N</td>\n",
       "      <td>3.4</td>\n",
       "      <td>Flat</td>\n",
       "      <td>1</td>\n",
       "    </tr>\n",
       "    <tr>\n",
       "      <th>915</th>\n",
       "      <td>57</td>\n",
       "      <td>M</td>\n",
       "      <td>ASY</td>\n",
       "      <td>130</td>\n",
       "      <td>131</td>\n",
       "      <td>0</td>\n",
       "      <td>Normal</td>\n",
       "      <td>115</td>\n",
       "      <td>Y</td>\n",
       "      <td>1.2</td>\n",
       "      <td>Flat</td>\n",
       "      <td>1</td>\n",
       "    </tr>\n",
       "    <tr>\n",
       "      <th>916</th>\n",
       "      <td>57</td>\n",
       "      <td>F</td>\n",
       "      <td>ATA</td>\n",
       "      <td>130</td>\n",
       "      <td>236</td>\n",
       "      <td>0</td>\n",
       "      <td>LVH</td>\n",
       "      <td>174</td>\n",
       "      <td>N</td>\n",
       "      <td>0.0</td>\n",
       "      <td>Flat</td>\n",
       "      <td>1</td>\n",
       "    </tr>\n",
       "    <tr>\n",
       "      <th>917</th>\n",
       "      <td>38</td>\n",
       "      <td>M</td>\n",
       "      <td>NAP</td>\n",
       "      <td>138</td>\n",
       "      <td>175</td>\n",
       "      <td>0</td>\n",
       "      <td>Normal</td>\n",
       "      <td>173</td>\n",
       "      <td>N</td>\n",
       "      <td>0.0</td>\n",
       "      <td>Up</td>\n",
       "      <td>0</td>\n",
       "    </tr>\n",
       "  </tbody>\n",
       "</table>\n",
       "<p>918 rows × 12 columns</p>\n",
       "</div>"
      ],
      "text/plain": [
       "     Age Sex ChestPainType  RestingBP  Cholesterol  FastingBS RestingECG  \\\n",
       "0     40   M           ATA        140          289          0     Normal   \n",
       "1     49   F           NAP        160          180          0     Normal   \n",
       "2     37   M           ATA        130          283          0         ST   \n",
       "3     48   F           ASY        138          214          0     Normal   \n",
       "4     54   M           NAP        150          195          0     Normal   \n",
       "..   ...  ..           ...        ...          ...        ...        ...   \n",
       "913   45   M            TA        110          264          0     Normal   \n",
       "914   68   M           ASY        144          193          1     Normal   \n",
       "915   57   M           ASY        130          131          0     Normal   \n",
       "916   57   F           ATA        130          236          0        LVH   \n",
       "917   38   M           NAP        138          175          0     Normal   \n",
       "\n",
       "     MaxHR ExerciseAngina  Oldpeak ST_Slope  HeartDisease  \n",
       "0      172              N      0.0       Up             0  \n",
       "1      156              N      1.0     Flat             1  \n",
       "2       98              N      0.0       Up             0  \n",
       "3      108              Y      1.5     Flat             1  \n",
       "4      122              N      0.0       Up             0  \n",
       "..     ...            ...      ...      ...           ...  \n",
       "913    132              N      1.2     Flat             1  \n",
       "914    141              N      3.4     Flat             1  \n",
       "915    115              Y      1.2     Flat             1  \n",
       "916    174              N      0.0     Flat             1  \n",
       "917    173              N      0.0       Up             0  \n",
       "\n",
       "[918 rows x 12 columns]"
      ]
     },
     "execution_count": 8,
     "metadata": {},
     "output_type": "execute_result"
    }
   ],
   "source": [
    "data_df = pd.read_csv('heart.csv')\n",
    "data_df"
   ]
  },
  {
   "cell_type": "markdown",
   "id": "0a774754-4e83-45ad-936f-139ca741e354",
   "metadata": {
    "tags": []
   },
   "source": [
    "### Encoding Features"
   ]
  },
  {
   "cell_type": "code",
   "execution_count": 4,
   "id": "f4f9e74e-30af-4076-bc18-2253e2161c52",
   "metadata": {
    "tags": []
   },
   "outputs": [
    {
     "name": "stdout",
     "output_type": "stream",
     "text": [
      "     Age  Male  Female  ChestPain_TA  ChestPain_ATA  ChestPain_NAP   \n",
      "0     40     1       0             0              1              0  \\\n",
      "1     49     0       1             0              0              1   \n",
      "2     37     1       0             0              1              0   \n",
      "3     48     0       1             0              0              0   \n",
      "4     54     1       0             0              0              1   \n",
      "..   ...   ...     ...           ...            ...            ...   \n",
      "913   45     1       0             1              0              0   \n",
      "914   68     1       0             0              0              0   \n",
      "915   57     1       0             0              0              0   \n",
      "916   57     0       1             0              1              0   \n",
      "917   38     1       0             0              0              1   \n",
      "\n",
      "     ChestPain_ASY  RestingBP  Cholesterol  FastingBS  RestECG_Normal   \n",
      "0                0        140          289          0               1  \\\n",
      "1                0        160          180          0               1   \n",
      "2                0        130          283          0               0   \n",
      "3                1        138          214          0               1   \n",
      "4                0        150          195          0               1   \n",
      "..             ...        ...          ...        ...             ...   \n",
      "913              0        110          264          0               1   \n",
      "914              1        144          193          1               1   \n",
      "915              1        130          131          0               1   \n",
      "916              0        130          236          0               0   \n",
      "917              0        138          175          0               1   \n",
      "\n",
      "     RestECG_ST  RestECG_LVH  MaxHR  ExerciseAngina  Oldpeak  ST_Slope_Up   \n",
      "0             0            0    172               0      0.0            1  \\\n",
      "1             0            0    156               0      1.0            0   \n",
      "2             1            0     98               0      0.0            1   \n",
      "3             0            0    108               1      1.5            0   \n",
      "4             0            0    122               0      0.0            1   \n",
      "..          ...          ...    ...             ...      ...          ...   \n",
      "913           0            0    132               0      1.2            0   \n",
      "914           0            0    141               0      3.4            0   \n",
      "915           0            0    115               1      1.2            0   \n",
      "916           0            1    174               0      0.0            0   \n",
      "917           0            0    173               0      0.0            1   \n",
      "\n",
      "     ST_Slope_Flat  ST_Slope_Down  HeartDisease  \n",
      "0                0              0             0  \n",
      "1                1              0             1  \n",
      "2                0              0             0  \n",
      "3                1              0             1  \n",
      "4                0              0             0  \n",
      "..             ...            ...           ...  \n",
      "913              1              0             1  \n",
      "914              1              0             1  \n",
      "915              1              0             1  \n",
      "916              1              0             1  \n",
      "917              0              0             0  \n",
      "\n",
      "[918 rows x 20 columns]\n"
     ]
    }
   ],
   "source": [
    "sex_oh_enc = pd.get_dummies(data_df[\"Sex\"], dtype=\"int\").rename(columns={\"F\":\"Female\", \"M\":\"Male\"})\n",
    "chestPain_oh_enc = pd.get_dummies(data_df[\"ChestPainType\"], dtype=\"int\").rename(columns={\"TA\":\"ChestPain_TA\", \"ATA\":\"ChestPain_ATA\", \"NAP\":\"ChestPain_NAP\",\"ASY\":\"ChestPain_ASY\"})\n",
    "restECG_oh_enc = pd.get_dummies(data_df[\"RestingECG\"], dtype=\"int\").rename(columns={\"Normal\":\"RestECG_Normal\", \"ST\":\"RestECG_ST\", \"LVH\":\"RestECG_LVH\"})\n",
    "st_slope_oh_enc = pd.get_dummies(data_df[\"ST_Slope\"], dtype=\"int\").rename(columns={\"Up\":\"ST_Slope_Up\", \"Flat\":\"ST_Slope_Flat\", \"Down\":\"ST_Slope_Down\"})\n",
    "exerciseAngina_ord_enc = pd.DataFrame(pd.factorize(data_df[\"ExerciseAngina\"])[0], columns=[\"ExerciseAngina\"])\n",
    "\n",
    "data_df_encoded = data_df.drop(columns=[\"Sex\", \"ChestPainType\", \"RestingECG\", \"ST_Slope\", \"ExerciseAngina\"])\n",
    "data_df_encoded = data_df_encoded.join([sex_oh_enc, chestPain_oh_enc, restECG_oh_enc, st_slope_oh_enc, exerciseAngina_ord_enc])\n",
    "data_df_encoded = data_df_encoded[[\"Age\",\n",
    "                                  \"Male\", \"Female\",\n",
    "                                  \"ChestPain_TA\", \"ChestPain_ATA\", \"ChestPain_NAP\", \"ChestPain_ASY\",\n",
    "                                  \"RestingBP\",\n",
    "                                  \"Cholesterol\",\n",
    "                                  \"FastingBS\",\n",
    "                                  \"RestECG_Normal\", \"RestECG_ST\", \"RestECG_LVH\",\n",
    "                                  \"MaxHR\",\n",
    "                                  \"ExerciseAngina\",\n",
    "                                  \"Oldpeak\",\n",
    "                                  \"ST_Slope_Up\", \"ST_Slope_Flat\", \"ST_Slope_Down\",\n",
    "                                  \"HeartDisease\"]]\n",
    "print(data_df_encoded)"
   ]
  },
  {
   "cell_type": "markdown",
   "id": "8a64a970-3ff8-4292-84a3-deafa253260b",
   "metadata": {},
   "source": [
    "### Separating features from target"
   ]
  },
  {
   "cell_type": "code",
   "execution_count": 5,
   "id": "358aadfa-0ff7-46e4-8a64-34e34cfd39ec",
   "metadata": {
    "tags": []
   },
   "outputs": [],
   "source": [
    "X = np.array(data_df_encoded)[:,:-1]\n",
    "y = np.array(data_df_encoded)[:,-1].reshape(918,1)"
   ]
  },
  {
   "cell_type": "markdown",
   "id": "1c98bdc9-75d2-4ff0-a1bc-4fe2ad0cf876",
   "metadata": {},
   "source": [
    "### Splitting data into train and test sets"
   ]
  },
  {
   "cell_type": "code",
   "execution_count": 6,
   "id": "c5f984cb-90d9-4a01-a7b3-89f5e5814819",
   "metadata": {},
   "outputs": [],
   "source": [
    "X_train, X_test, y_train, y_test = train_test_split(X, y, test_size=0.2, train_size=0.8, random_state=8)"
   ]
  },
  {
   "cell_type": "markdown",
   "id": "10402f37-1762-4113-9ba7-610b939a6d18",
   "metadata": {},
   "source": [
    "### Feature Scaling/Normalization"
   ]
  },
  {
   "cell_type": "code",
   "execution_count": 7,
   "id": "a1640f6f-bbb7-4a8c-8028-12e82a8801f4",
   "metadata": {
    "tags": []
   },
   "outputs": [],
   "source": [
    "# Normalize age, RestingBP, Cholesterol, MaxHR, and oldPeak\n",
    "\n",
    "# Standardization (Z-score normzalization): zero-centered & unit variance\n",
    "# ct = compose.ColumnTransformer([(\"standard_scaler\", preprocessing.StandardScaler(), [0, 7, 8, 13, 15])], remainder=\"passthrough\")\n",
    "\n",
    "# Min/Max Normalization (Linear Scaling): [0,1]\n",
    "ct = compose.ColumnTransformer([(\"min_max_scaler\", preprocessing.MinMaxScaler(), [0, 7, 8, 13, 15])], remainder=\"passthrough\")\n",
    "\n",
    "\n",
    "X_train_normalized = ct.fit_transform(X_train)\n",
    "X_test_normalized = ct.fit_transform(X_test)"
   ]
  },
  {
   "cell_type": "markdown",
   "id": "1816cb0c-fe2d-465b-be7f-e95109caa3a6",
   "metadata": {},
   "source": [
    "### Add column of ones to data"
   ]
  },
  {
   "cell_type": "code",
   "execution_count": 8,
   "id": "70de458d-851a-4810-8153-6467d9270ad3",
   "metadata": {
    "tags": []
   },
   "outputs": [],
   "source": [
    "X_train_normalized_1 = np.hstack((np.ones((X_train.shape[0],1)), X_train))\n",
    "X_test_normalized_1 = np.hstack((np.ones((X_test.shape[0],1)), X_test))"
   ]
  },
  {
   "cell_type": "markdown",
   "id": "63006331-7fb7-46c1-9310-4374e00f216f",
   "metadata": {
    "tags": []
   },
   "source": [
    "## Logistic Regression"
   ]
  },
  {
   "cell_type": "markdown",
   "id": "6cf38607-02f2-479f-baf6-e1eba1fb5bf5",
   "metadata": {},
   "source": [
    "### Feature Transformations"
   ]
  },
  {
   "cell_type": "markdown",
   "id": "87092135-7eb0-4b36-b3e0-013dfa224c5b",
   "metadata": {},
   "source": [
    "### Regularization"
   ]
  },
  {
   "cell_type": "markdown",
   "id": "75b86065-57a8-42ba-82f5-d41172fe4aa6",
   "metadata": {},
   "source": [
    "### Hyperparameter Tuning"
   ]
  }
 ],
 "metadata": {
  "kernelspec": {
   "display_name": "Python 3 (ipykernel)",
   "language": "python",
   "name": "python3"
  },
  "language_info": {
   "codemirror_mode": {
    "name": "ipython",
    "version": 3
   },
   "file_extension": ".py",
   "mimetype": "text/x-python",
   "name": "python",
   "nbconvert_exporter": "python",
   "pygments_lexer": "ipython3",
   "version": "3.10.6"
  }
 },
 "nbformat": 4,
 "nbformat_minor": 5
}
