{
 "cells": [
  {
   "cell_type": "markdown",
   "id": "89aabdcd-b0d5-47b6-8669-39788d7090a1",
   "metadata": {
    "tags": []
   },
   "source": [
    "# Heart Disease Prediction"
   ]
  },
  {
   "cell_type": "markdown",
   "id": "9e8d559b-0ebb-4eb8-b4f7-47e91fa4c06a",
   "metadata": {},
   "source": [
    "## Import packages"
   ]
  },
  {
   "cell_type": "markdown",
   "id": "3f4e204e-a387-41e9-9e36-f48575401558",
   "metadata": {
    "tags": []
   },
   "source": [
    "## Preparing the Data"
   ]
  },
  {
   "cell_type": "markdown",
   "id": "10402f37-1762-4113-9ba7-610b939a6d18",
   "metadata": {},
   "source": [
    "## Feature Scaling/Normalization"
   ]
  },
  {
   "cell_type": "markdown",
   "id": "63006331-7fb7-46c1-9310-4374e00f216f",
   "metadata": {
    "tags": []
   },
   "source": [
    "## Logistic Regression"
   ]
  },
  {
   "cell_type": "markdown",
   "id": "6cf38607-02f2-479f-baf6-e1eba1fb5bf5",
   "metadata": {},
   "source": [
    "### Feature Transformations"
   ]
  },
  {
   "cell_type": "markdown",
   "id": "87092135-7eb0-4b36-b3e0-013dfa224c5b",
   "metadata": {},
   "source": [
    "### Regularization"
   ]
  },
  {
   "cell_type": "markdown",
   "id": "75b86065-57a8-42ba-82f5-d41172fe4aa6",
   "metadata": {},
   "source": [
    "### Hyperparameter Tuning"
   ]
  }
 ],
 "metadata": {
  "kernelspec": {
   "display_name": "Python 3 (ipykernel)",
   "language": "python",
   "name": "python3"
  },
  "language_info": {
   "codemirror_mode": {
    "name": "ipython",
    "version": 3
   },
   "file_extension": ".py",
   "mimetype": "text/x-python",
   "name": "python",
   "nbconvert_exporter": "python",
   "pygments_lexer": "ipython3",
   "version": "3.10.10"
  }
 },
 "nbformat": 4,
 "nbformat_minor": 5
}
